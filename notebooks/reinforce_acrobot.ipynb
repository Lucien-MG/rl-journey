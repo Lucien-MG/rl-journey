{
 "cells": [
  {
   "cell_type": "code",
   "execution_count": 290,
   "metadata": {},
   "outputs": [],
   "source": [
    "import pathlib\n",
    "\n",
    "import gym\n",
    "import torch\n",
    "\n",
    "from matplotlib import pyplot as plt"
   ]
  },
  {
   "cell_type": "code",
   "execution_count": 291,
   "metadata": {},
   "outputs": [],
   "source": [
    "ENV = 'Acrobot-v1'\n",
    "RECORD_PATH = \"../videos/reinforce/\" + ENV"
   ]
  },
  {
   "cell_type": "code",
   "execution_count": 292,
   "metadata": {},
   "outputs": [],
   "source": [
    "VIDEO_RECORD_DIR = pathlib.Path(RECORD_PATH)"
   ]
  },
  {
   "cell_type": "code",
   "execution_count": 293,
   "metadata": {},
   "outputs": [],
   "source": [
    "env = gym.make(ENV, new_step_api=True)"
   ]
  },
  {
   "cell_type": "code",
   "execution_count": 378,
   "metadata": {},
   "outputs": [],
   "source": [
    "class reinforce(torch.nn.Module):\n",
    "\n",
    "    def __init__(self, policy: torch.nn.Module) -> None:\n",
    "        super().__init__()\n",
    "        self.policy = policy\n",
    "    \n",
    "    def forward(self, state):\n",
    "        return self.policy(state)\n",
    "\n",
    "class ActionReplayBuffer(torch.nn.Module):\n",
    "\n",
    "    def __init__(self, gamma: float) -> None:\n",
    "        super().__init__()\n",
    "        self.gamma = gamma\n",
    "\n",
    "        self.state_buffer = []\n",
    "        self.action_buffer = []\n",
    "        self.reward_buffer = []\n",
    "\n",
    "    def __len__(self):\n",
    "        return len(self.state_buffer)\n",
    "    \n",
    "    def push(self, state, action, reward):\n",
    "        state = torch.FloatTensor(state).unsqueeze(dim=0)\n",
    "\n",
    "        self.state_buffer.append(state)\n",
    "        self.action_buffer.append(action)\n",
    "        self.reward_buffer.append(reward)\n",
    "    \n",
    "    def sample(self):\n",
    "        self.reward_buffer.reverse()\n",
    "\n",
    "        for i in range(len(self.reward_buffer) - 1):\n",
    "            self.reward_buffer[i + 1] = self.reward_buffer[i + 1] + ((self.gamma) * self.reward_buffer[i])\n",
    "\n",
    "        self.reward_buffer.reverse()\n",
    "\n",
    "        state_tensor = torch.cat(self.state_buffer)\n",
    "        action_tensor = torch.tensor(self.action_buffer)\n",
    "        reward_tensor = torch.FloatTensor(self.reward_buffer)\n",
    "\n",
    "        return state_tensor, action_tensor, reward_tensor\n",
    "\n",
    "    def empty(self):\n",
    "        self.__init__(self.gamma)\n",
    "\n",
    "def action_multinomial(action_probabilities):\n",
    "    output = torch.distributions.Categorical(action_probabilities)\n",
    "    return output.sample().item()\n",
    "\n",
    "def reinforce_loss(prob_batch, expected_returns_batch):\n",
    "    error = torch.log(prob_batch) * expected_returns_batch\n",
    "    return -torch.sum(error)\n"
   ]
  },
  {
   "cell_type": "code",
   "execution_count": 383,
   "metadata": {},
   "outputs": [],
   "source": [
    "MAX_EPISODE_STEPS = 200\n",
    "MAX_EPISODES = 1000\n",
    "GOAL_SCORE = 475\n",
    "\n",
    "HIDDEN_SIZE = 64\n",
    "\n",
    "LOG_TIME = 20\n",
    "\n",
    "obs_size = env.observation_space.shape[0] \n",
    "n_actions = env.action_space.n\n",
    "\n",
    "learning_rate = 0.00003\n",
    "gamma = 0.99"
   ]
  },
  {
   "cell_type": "code",
   "execution_count": 389,
   "metadata": {},
   "outputs": [],
   "source": [
    "def torch_reinforce_train(agent, replay_buffer, optimizer):\n",
    "    score = []\n",
    "\n",
    "    for trajectory in range(MAX_EPISODES + 1):\n",
    "        state = env.reset()\n",
    "        done = False\n",
    "    \n",
    "        for t in range(MAX_EPISODE_STEPS):\n",
    "            torch_state = torch.from_numpy(state).float()\n",
    "\n",
    "            state[-1] = state[-1] / 13\n",
    "            state[-2] = state[-2] / 30\n",
    "\n",
    "            action_probs = agent(torch_state)\n",
    "\n",
    "            action = action_multinomial(action_probs)\n",
    "\n",
    "            prev_state = state\n",
    "\n",
    "            step_state = env.step(action)\n",
    "            state, reward, done = step_state[0], step_state[1], step_state[2]\n",
    "\n",
    "            replay_buffer.push(prev_state, action, reward)\n",
    "\n",
    "            if done:\n",
    "                break\n",
    "\n",
    "        score.append(-len(replay_buffer))\n",
    "\n",
    "        state_batch, action_batch, reward_batch = replay_buffer.sample()\n",
    "        replay_buffer.empty()\n",
    "\n",
    "        reward_batch = reward_batch / torch.abs(reward_batch).max()\n",
    "\n",
    "        pred_batch = agent(state_batch)\n",
    "        prob_batch = pred_batch.gather(dim=1,index=action_batch\n",
    "                 .long().view(-1,1)).squeeze()\n",
    "    \n",
    "        loss = reinforce_loss(prob_batch, reward_batch)\n",
    "\n",
    "        # torch.nn.utils.clip_grad_norm_(agent.parameters(), max_norm=0.5)\n",
    "    \n",
    "        optimizer.zero_grad()\n",
    "        loss.backward()\n",
    "        optimizer.step()\n",
    "\n",
    "        if trajectory % LOG_TIME == 0 and trajectory > 0:\n",
    "            mean_score = sum(score[-LOG_TIME:-1]) / len(score[-LOG_TIME:-1])\n",
    "            print('Trajectory {}\\tAverage Score: {:.2f}\\tLoss: {:.2f}'.format(trajectory, mean_score, loss.item()))\n",
    "\n",
    "            if mean_score > GOAL_SCORE:\n",
    "                break\n",
    "    \n",
    "    return score    "
   ]
  },
  {
   "cell_type": "code",
   "execution_count": 390,
   "metadata": {},
   "outputs": [],
   "source": [
    "model = torch.nn.Sequential(\n",
    "             torch.nn.Linear(obs_size, HIDDEN_SIZE),\n",
    "             torch.nn.ReLU(),\n",
    "             torch.nn.Linear(HIDDEN_SIZE, HIDDEN_SIZE),\n",
    "             torch.nn.ReLU(),\n",
    "             torch.nn.Linear(HIDDEN_SIZE, n_actions),\n",
    "             torch.nn.Softmax(dim=0)\n",
    "    )\n",
    "\n",
    "agent = reinforce(model)\n",
    "replay_buffer = ActionReplayBuffer(gamma)\n",
    "\n",
    "optimizer = torch.optim.Adam(agent.parameters(), lr=learning_rate)"
   ]
  },
  {
   "cell_type": "code",
   "execution_count": 391,
   "metadata": {},
   "outputs": [
    {
     "name": "stdout",
     "output_type": "stream",
     "text": [
      "Trajectory 20\tAverage Score: -200.00\tLoss: -699.11\n",
      "Trajectory 40\tAverage Score: -200.00\tLoss: -699.19\n",
      "Trajectory 60\tAverage Score: -200.00\tLoss: -699.18\n",
      "Trajectory 80\tAverage Score: -200.00\tLoss: -699.20\n",
      "Trajectory 100\tAverage Score: -200.00\tLoss: -699.03\n",
      "Trajectory 120\tAverage Score: -200.00\tLoss: -699.17\n",
      "Trajectory 140\tAverage Score: -200.00\tLoss: -699.46\n",
      "Trajectory 160\tAverage Score: -200.00\tLoss: -699.33\n",
      "Trajectory 180\tAverage Score: -200.00\tLoss: -699.24\n",
      "Trajectory 200\tAverage Score: -200.00\tLoss: -699.24\n",
      "Trajectory 220\tAverage Score: -200.00\tLoss: -699.11\n",
      "Trajectory 240\tAverage Score: -200.00\tLoss: -699.07\n",
      "Trajectory 260\tAverage Score: -200.00\tLoss: -699.55\n",
      "Trajectory 280\tAverage Score: -200.00\tLoss: -699.80\n",
      "Trajectory 300\tAverage Score: -200.00\tLoss: -699.14\n",
      "Trajectory 320\tAverage Score: -200.00\tLoss: -699.41\n",
      "Trajectory 340\tAverage Score: -200.00\tLoss: -699.35\n",
      "Trajectory 360\tAverage Score: -200.00\tLoss: -699.05\n",
      "Trajectory 380\tAverage Score: -200.00\tLoss: -700.26\n",
      "Trajectory 400\tAverage Score: -200.00\tLoss: -700.05\n",
      "Trajectory 420\tAverage Score: -200.00\tLoss: -700.52\n",
      "Trajectory 440\tAverage Score: -200.00\tLoss: -700.63\n",
      "Trajectory 460\tAverage Score: -200.00\tLoss: -699.28\n",
      "Trajectory 480\tAverage Score: -200.00\tLoss: -699.64\n",
      "Trajectory 500\tAverage Score: -200.00\tLoss: -699.45\n",
      "Trajectory 520\tAverage Score: -200.00\tLoss: -700.89\n",
      "Trajectory 540\tAverage Score: -200.00\tLoss: -700.55\n",
      "Trajectory 560\tAverage Score: -200.00\tLoss: -699.57\n",
      "Trajectory 580\tAverage Score: -200.00\tLoss: -700.67\n",
      "Trajectory 600\tAverage Score: -200.00\tLoss: -699.52\n",
      "Trajectory 620\tAverage Score: -200.00\tLoss: -699.68\n",
      "Trajectory 640\tAverage Score: -200.00\tLoss: -698.87\n",
      "Trajectory 660\tAverage Score: -200.00\tLoss: -700.11\n",
      "Trajectory 680\tAverage Score: -200.00\tLoss: -699.49\n",
      "Trajectory 700\tAverage Score: -200.00\tLoss: -700.37\n",
      "Trajectory 720\tAverage Score: -200.00\tLoss: -699.01\n",
      "Trajectory 740\tAverage Score: -200.00\tLoss: -699.16\n",
      "Trajectory 760\tAverage Score: -200.00\tLoss: -700.67\n",
      "Trajectory 780\tAverage Score: -200.00\tLoss: -700.15\n",
      "Trajectory 800\tAverage Score: -200.00\tLoss: -699.17\n",
      "Trajectory 820\tAverage Score: -200.00\tLoss: -700.63\n",
      "Trajectory 840\tAverage Score: -200.00\tLoss: -699.05\n",
      "Trajectory 860\tAverage Score: -200.00\tLoss: -700.69\n",
      "Trajectory 880\tAverage Score: -200.00\tLoss: -701.33\n",
      "Trajectory 900\tAverage Score: -200.00\tLoss: -699.71\n",
      "Trajectory 920\tAverage Score: -200.00\tLoss: -701.91\n",
      "Trajectory 940\tAverage Score: -200.00\tLoss: -700.57\n",
      "Trajectory 960\tAverage Score: -200.00\tLoss: -700.23\n",
      "Trajectory 980\tAverage Score: -200.00\tLoss: -701.41\n",
      "Trajectory 1000\tAverage Score: -200.00\tLoss: -700.56\n"
     ]
    }
   ],
   "source": [
    "score = torch_reinforce_train(agent, replay_buffer, optimizer)"
   ]
  },
  {
   "cell_type": "code",
   "execution_count": null,
   "metadata": {},
   "outputs": [
    {
     "data": {
      "text/plain": [
       "<matplotlib.collections.PathCollection at 0x1684fb460>"
      ]
     },
     "execution_count": 244,
     "metadata": {},
     "output_type": "execute_result"
    },
    {
     "data": {
      "image/png": "[encoded data removed]",
      "text/plain": [
       "<Figure size 1080x504 with 1 Axes>"
      ]
     },
     "metadata": {
      "needs_background": "light"
     },
     "output_type": "display_data"
    }
   ],
   "source": [
    "def running_mean(x):\n",
    "    N=50\n",
    "    kernel = torch.ones(N)\n",
    "    conv_len = x.shape[0]-N\n",
    "    y = torch.zeros(conv_len)\n",
    "    for i in range(conv_len):\n",
    "        y[i] = torch.matmul(kernel, x[i:i+N].float())\n",
    "        y[i] /= N\n",
    "    return y\n",
    "\n",
    "score = torch.tensor(score)\n",
    "avg_score = running_mean(score)\n",
    "\n",
    "plt.figure(figsize=(15,7))\n",
    "\n",
    "plt.ylabel(\"Trajectory Duration\",fontsize=12)\n",
    "plt.xlabel(\"Training Epochs\",fontsize=12)\n",
    "\n",
    "plt.plot(score, color='gray' , linewidth=1)\n",
    "plt.plot(avg_score, color='blue', linewidth=3)\n",
    "\n",
    "plt.scatter(torch.arange(score.shape[0]),score, \n",
    "            color='green' , linewidth=0.3)"
   ]
  },
  {
   "cell_type": "code",
   "execution_count": 245,
   "metadata": {},
   "outputs": [],
   "source": [
    "from gym.wrappers import RecordVideo\n",
    "\n",
    "def watch_agent(max_steps=500):\n",
    "    env = gym.make(ENV, new_step_api=True)\n",
    "    env = RecordVideo(env, video_folder=VIDEO_RECORD_DIR)\n",
    "    state = env.reset()\n",
    "\n",
    "    rewards = []\n",
    "\n",
    "    for t in range(max_steps):\n",
    "        pred = model(torch.from_numpy(state).float())\n",
    "        action = torch.argmax(pred).item()\n",
    "\n",
    "        step_state = env.step(action)\n",
    "        state, reward, done = step_state[0], step_state[1], step_state[2]\n",
    "\n",
    "        rewards.append(reward)\n",
    "\n",
    "        if done:\n",
    "            print(\"Reward:\", sum([r for r in rewards]))\n",
    "            break\n",
    "\n",
    "    env.close()"
   ]
  },
  {
   "cell_type": "code",
   "execution_count": 246,
   "metadata": {},
   "outputs": [
    {
     "name": "stderr",
     "output_type": "stream",
     "text": [
      "/Users/lulu/Worskpace/rl-journey/.venv/lib/python3.10/site-packages/gym/core.py:317: DeprecationWarning: \u001b[33mWARN: Initializing wrapper in old step API which returns one bool instead of two. It is recommended to set `new_step_api=True` to use new step API. This will be the default behaviour in future.\u001b[0m\n",
      "  deprecation(\n",
      "/Users/lulu/Worskpace/rl-journey/.venv/lib/python3.10/site-packages/gym/wrappers/monitoring/video_recorder.py:78: DeprecationWarning: \u001b[33mWARN: Recording ability for environment Acrobot-v1 initialized with `render_mode=None` is marked as deprecated and will be removed in the future.\u001b[0m\n",
      "  logger.deprecation(\n",
      "/Users/lulu/Worskpace/rl-journey/.venv/lib/python3.10/site-packages/gym/core.py:43: DeprecationWarning: \u001b[33mWARN: The argument mode in render method is deprecated; use render_mode during environment initialization instead.\n",
      "See here for more information: https://www.gymlibrary.ml/content/api/\u001b[0m\n",
      "  deprecation(\n",
      "/Users/lulu/Worskpace/rl-journey/.venv/lib/python3.10/site-packages/gym/core.py:43: DeprecationWarning: \u001b[33mWARN: The argument mode in render method is deprecated; use render_mode during environment initialization instead.\n",
      "See here for more information: https://www.gymlibrary.ml/content/api/\u001b[0m\n",
      "  deprecation(\n"
     ]
    },
    {
     "name": "stdout",
     "output_type": "stream",
     "text": [
      "Reward: -500.0\n"
     ]
    }
   ],
   "source": [
    "watch_agent()"
   ]
  },
  {
   "cell_type": "code",
   "execution_count": null,
   "metadata": {},
   "outputs": [],
   "source": []
  }
 ],
 "metadata": {
  "kernelspec": {
   "display_name": "Python 3.10.5 ('.venv': poetry)",
   "language": "python",
   "name": "python3"
  },
  "language_info": {
   "codemirror_mode": {
    "name": "ipython",
    "version": 3
   },
   "file_extension": ".py",
   "mimetype": "text/x-python",
   "name": "python",
   "nbconvert_exporter": "python",
   "pygments_lexer": "ipython3",
   "version": "3.10.6"
  },
  "orig_nbformat": 4,
  "vscode": {
   "interpreter": {
    "hash": "51ae4b48cd667d26a35c5140fc7a1db972b291d20a1bee8d89eeb2339d6da7a3"
   }
  }
 },
 "nbformat": 4,
 "nbformat_minor": 2
}
