{
 "cells": [
  {
   "cell_type": "code",
   "execution_count": 122,
   "metadata": {},
   "outputs": [],
   "source": [
    "import pathlib\n",
    "\n",
    "import gym\n",
    "import torch\n",
    "\n",
    "from matplotlib import pyplot as plt\n",
    "from torch.utils.tensorboard import SummaryWriter"
   ]
  },
  {
   "cell_type": "code",
   "execution_count": 123,
   "metadata": {},
   "outputs": [],
   "source": [
    "ENV = \"MountainCar-v0\" # 'Acrobot-v1' \"LunarLander-v2\" 'CartPole-v1'\n",
    "RECORD_PATH = \"../videos/reinforce/\" + ENV\n",
    "BASELINE_NUMBER = 1\n",
    "BASELINE = \"policy_gradient_\" + ENV\n",
    "LOG_FOLDER = \"../runs/\" + BASELINE + \"/\"\n",
    "SEEDS = [1]\n",
    "VIDEO_RECORD_DIR = pathlib.Path(RECORD_PATH)"
   ]
  },
  {
   "cell_type": "code",
   "execution_count": 124,
   "metadata": {},
   "outputs": [],
   "source": [
    "env = gym.make(ENV, new_step_api=True)"
   ]
  },
  {
   "cell_type": "code",
   "execution_count": 125,
   "metadata": {},
   "outputs": [],
   "source": [
    "# Part of the library\n",
    "\n",
    "class reinforce(torch.nn.Module):\n",
    "\n",
    "    def __init__(self, policy: torch.nn.Module) -> None:\n",
    "        super().__init__()\n",
    "        self.policy = policy\n",
    "    \n",
    "    def forward(self, state):\n",
    "        return self.policy(state)\n",
    "\n",
    "class ActionReplayBuffer(torch.nn.Module):\n",
    "\n",
    "    def __init__(self, gamma: float) -> None:\n",
    "        super().__init__()\n",
    "        self.gamma = gamma\n",
    "\n",
    "        self.state_buffer = []\n",
    "        self.action_buffer = []\n",
    "        self.reward_buffer = []\n",
    "        self.done_buffer = []\n",
    "\n",
    "    def __len__(self):\n",
    "        return len(self.state_buffer)\n",
    "    \n",
    "    def push(self, state, action, reward, done):\n",
    "        state = torch.FloatTensor(state).unsqueeze(dim=0)\n",
    "\n",
    "        self.state_buffer.append(state)\n",
    "        self.action_buffer.append(action)\n",
    "        self.reward_buffer.append(reward)\n",
    "        self.done_buffer.append(done)\n",
    "    \n",
    "    def sample(self):\n",
    "        self.reward_buffer.reverse()\n",
    "        self.done_buffer.reverse()\n",
    "\n",
    "        for i in range(len(self.reward_buffer) - 1):\n",
    "            if not self.done_buffer[i + 1]:\n",
    "                self.reward_buffer[i + 1] = self.reward_buffer[i + 1] + (self.gamma * self.reward_buffer[i])\n",
    "\n",
    "        self.reward_buffer.reverse()\n",
    "        self.done_buffer.reverse()\n",
    "\n",
    "        state_tensor = torch.cat(self.state_buffer)\n",
    "        action_tensor = torch.tensor(self.action_buffer)\n",
    "        reward_tensor = torch.FloatTensor(self.reward_buffer)\n",
    "\n",
    "        return state_tensor, action_tensor, reward_tensor\n",
    "\n",
    "    def empty(self):\n",
    "        self.__init__(self.gamma)\n",
    "\n",
    "def categorical_policy(action_probabilities):\n",
    "    return torch.distributions.Categorical(action_probabilities)\n",
    "\n",
    "def categorical_action(action_probabilities):\n",
    "    categorical = torch.distributions.Categorical(action_probabilities)\n",
    "    return categorical.sample().item()\n",
    "\n",
    "def get_prob_from_pred(pred_batch, action_batch):\n",
    "    return pred_batch.gather(dim=1,index=action_batch.long().view(-1,1)).squeeze()\n",
    "\n",
    "def reinforce_loss(prob_batch, expected_returns_batch, epsilon=1e-14):\n",
    "    error = torch.log(prob_batch + epsilon) * expected_returns_batch\n",
    "    return -torch.mean(error)\n",
    "\n",
    "def get_grad_max(module):\n",
    "    grad_max = 0.0\n",
    "\n",
    "    for parameter in module.parameters():\n",
    "        grad_max = max(grad_max, parameter.grad.abs().max().item())\n",
    "\n",
    "    return grad_max\n",
    "\n",
    "def get_grad_l2(module):\n",
    "    grad_means = 0.0\n",
    "    grad_count = 0\n",
    "\n",
    "    for parameter in module.parameters():\n",
    "        grad_means += (parameter.grad ** 2).mean().sqrt().item()\n",
    "        grad_count += 1\n",
    "\n",
    "    return grad_means / grad_count\n"
   ]
  },
  {
   "cell_type": "markdown",
   "metadata": {},
   "source": [
    "## Func Tools:"
   ]
  },
  {
   "cell_type": "code",
   "execution_count": 126,
   "metadata": {},
   "outputs": [],
   "source": [
    "def evaluate_agent(agent, env, nb_episodes=10):\n",
    "    env = gym.make(env, new_step_api=True)\n",
    "    rewards = []\n",
    "\n",
    "    for n_episode in range(nb_episodes):\n",
    "        episode_reward = 0\n",
    "\n",
    "        observation = env.reset()\n",
    "        done = False\n",
    "\n",
    "        while not done:\n",
    "            pred = agent(torch.from_numpy(observation).float())\n",
    "            action = torch.argmax(pred).item()\n",
    "\n",
    "            observation, reward, terminated, truncarted, info = env.step(action)\n",
    "            done = terminated or truncarted\n",
    "\n",
    "            episode_reward += reward\n",
    "\n",
    "        rewards.append(episode_reward)\n",
    "\n",
    "    env.close()\n",
    "    score = sum(rewards) / len(rewards)\n",
    "\n",
    "    return score"
   ]
  },
  {
   "cell_type": "code",
   "execution_count": 127,
   "metadata": {},
   "outputs": [],
   "source": [
    "MAX_EPISODE_STEPS = 1000\n",
    "MAX_EPISODES = 7000\n",
    "GOAL_SCORE = -150\n",
    "BUFFER_SIZE = 20\n",
    "\n",
    "EARLY_STOPPING = True\n",
    "LOG_TIME = 100\n",
    "\n",
    "obs_size = env.observation_space.shape[0]\n",
    "n_actions = env.action_space.n\n",
    "\n",
    "learning_rate = 0.0001\n",
    "gamma = 0.99"
   ]
  },
  {
   "cell_type": "code",
   "execution_count": 128,
   "metadata": {},
   "outputs": [],
   "source": [
    "from collections import deque\n",
    "\n",
    "def torch_reinforce_train(agent, replay_buffer, optimizer, buffer_size=500, seed=0):\n",
    "    writer = SummaryWriter(log_dir=LOG_FOLDER + \"run_\" + str(BASELINE_NUMBER) + \"_seed_\" + str(seed))\n",
    "\n",
    "    # Metrics\n",
    "    losses = []\n",
    "    cumulative_reward = deque(maxlen=100)\n",
    "    episode_length = deque(maxlen=100)\n",
    "\n",
    "    for trajectory in range(MAX_EPISODES + 1):\n",
    "        state = env.reset(seed=seed)\n",
    "        done = False\n",
    "\n",
    "        total_reward = 0\n",
    "        nb_step = 0\n",
    "    \n",
    "        for t in range(MAX_EPISODE_STEPS):\n",
    "            torch_state = torch.from_numpy(state).float()\n",
    "            action_probs = agent(torch_state)\n",
    "\n",
    "            action = categorical_action(action_probs)\n",
    "\n",
    "            prev_state = state\n",
    "\n",
    "            step_state = env.step(action)\n",
    "            state, reward, done = step_state[0], step_state[1], step_state[2]\n",
    "\n",
    "            replay_buffer.push(prev_state, action, reward, done)\n",
    "            nb_step += 1\n",
    "            total_reward += reward\n",
    "\n",
    "            if done:\n",
    "                break\n",
    "\n",
    "        cumulative_reward.append(total_reward)\n",
    "        episode_length.append(nb_step)\n",
    "\n",
    "        if len(replay_buffer) > buffer_size:\n",
    "            state_batch, action_batch, reward_batch = replay_buffer.sample()\n",
    "\n",
    "            # reward_batch = (reward_batch - reward_batch.std()) /  reward_batch.mean()\n",
    "            reward_batch = reward_batch / reward_batch.max()\n",
    "\n",
    "            pred_batch = agent(state_batch)\n",
    "            prob_batch = get_prob_from_pred(pred_batch, action_batch)\n",
    "    \n",
    "            optimizer.zero_grad()\n",
    "\n",
    "            loss = reinforce_loss(prob_batch, reward_batch)\n",
    "            loss.backward()\n",
    "\n",
    "            # torch.nn.utils.clip_grad_norm_(agent.parameters(), 0.5)\n",
    "            optimizer.step()\n",
    "\n",
    "            losses.append(loss)\n",
    "            replay_buffer.empty()\n",
    "\n",
    "            writer.add_scalar(\"grad_max\", get_grad_max(agent), trajectory)\n",
    "            writer.add_scalar(\"grad_l2\", get_grad_l2(agent), trajectory)\n",
    "\n",
    "        # logging\n",
    "        vector_cumulative_reward = torch.FloatTensor(cumulative_reward)\n",
    "        vector_episode_length = torch.FloatTensor(episode_length)\n",
    "\n",
    "        mean_reward = torch.mean(vector_cumulative_reward)\n",
    "        max_reward = torch.max(vector_cumulative_reward)\n",
    "        min_reward = torch.min(vector_cumulative_reward)\n",
    "        std_reward = torch.std(vector_cumulative_reward)\n",
    "\n",
    "        mean_episode_length = torch.mean(vector_episode_length)\n",
    "        max_episode_length = torch.max(vector_episode_length)\n",
    "        min_episode_length = torch.min(vector_episode_length)\n",
    "        std_episode_length = torch.std(vector_episode_length)\n",
    "\n",
    "        if trajectory % LOG_TIME == 0 and trajectory > 0:\n",
    "            writer.add_scalar(\"mean_reward\", mean_reward, trajectory)\n",
    "            writer.add_scalar(\"max_reward\", max_reward, trajectory)\n",
    "            writer.add_scalar(\"min_reward\", min_reward, trajectory)\n",
    "            writer.add_scalar(\"std_reward\", std_reward, trajectory)\n",
    "\n",
    "            writer.add_scalar(\"mean_episode_length\", mean_episode_length, trajectory)\n",
    "            writer.add_scalar(\"max_episode_length\", max_episode_length, trajectory)\n",
    "            writer.add_scalar(\"min_episode_length\", min_episode_length, trajectory)\n",
    "            writer.add_scalar(\"std_episode_length\", std_episode_length, trajectory)\n",
    "\n",
    "        # Early stopping\n",
    "        if EARLY_STOPPING and mean_reward > GOAL_SCORE:\n",
    "            print(\"Environment resolved, nb episodes:\", trajectory, \"score:\", mean_reward)\n",
    "            break\n",
    "    \n",
    "    writer.close()\n",
    "    return mean_reward"
   ]
  },
  {
   "cell_type": "code",
   "execution_count": 129,
   "metadata": {},
   "outputs": [],
   "source": [
    "def baseline(seeds):\n",
    "    best_score = float(\"-inf\")\n",
    "    best_agent = None\n",
    "\n",
    "    for seed in seeds:\n",
    "        torch.manual_seed(0)\n",
    "\n",
    "        model = torch.nn.Sequential(\n",
    "            torch.nn.Linear(obs_size, 64),\n",
    "            torch.nn.ReLU(),\n",
    "            torch.nn.Linear(64, n_actions),\n",
    "            torch.nn.Softmax(dim=0)\n",
    "        )\n",
    "\n",
    "        agent = reinforce(model)\n",
    "        replay_buffer = ActionReplayBuffer(gamma)\n",
    "\n",
    "        optimizer = torch.optim.Adam(agent.parameters(), lr=learning_rate)\n",
    "\n",
    "        score = torch_reinforce_train(agent, replay_buffer, optimizer, buffer_size=BUFFER_SIZE, seed=seed)\n",
    "\n",
    "        if score > best_score:\n",
    "            best_score = score\n",
    "            best_agent = agent\n",
    "    \n",
    "    return best_agent, best_score"
   ]
  },
  {
   "cell_type": "code",
   "execution_count": 130,
   "metadata": {},
   "outputs": [
    {
     "name": "stdout",
     "output_type": "stream",
     "text": [
      "Best mean score: tensor(-997.1100)\n"
     ]
    }
   ],
   "source": [
    "agent, score = baseline(SEEDS)\n",
    "\n",
    "print(\"Best mean score:\", score)"
   ]
  },
  {
   "cell_type": "code",
   "execution_count": 131,
   "metadata": {},
   "outputs": [
    {
     "name": "stdout",
     "output_type": "stream",
     "text": [
      "Evaluation score: -200.0\n"
     ]
    }
   ],
   "source": [
    "score = evaluate_agent(agent, ENV, nb_episodes=100)\n",
    "\n",
    "print(\"Evaluation score:\", score)"
   ]
  },
  {
   "cell_type": "code",
   "execution_count": 132,
   "metadata": {},
   "outputs": [],
   "source": [
    "from gym.wrappers import RecordVideo\n",
    "\n",
    "def watch_agent(agent, env, max_steps=500):\n",
    "    env = gym.make(env, new_step_api=True)\n",
    "    env = RecordVideo(env, video_folder=VIDEO_RECORD_DIR)\n",
    "\n",
    "    state = env.reset()\n",
    "    score = 0\n",
    "\n",
    "    for t in range(max_steps):\n",
    "        pred = agent(torch.from_numpy(state).float())\n",
    "        action = torch.argmax(pred).item()\n",
    "\n",
    "        step_state = env.step(action)\n",
    "        state, reward, done = step_state[0], step_state[1], step_state[2]\n",
    "\n",
    "        score += reward\n",
    "\n",
    "        if done:\n",
    "            break\n",
    "\n",
    "    env.close()\n",
    "    return score"
   ]
  },
  {
   "cell_type": "code",
   "execution_count": 133,
   "metadata": {},
   "outputs": [
    {
     "name": "stderr",
     "output_type": "stream",
     "text": [
      "/Users/lulu/Worskpace/rl-journey/.venv/lib/python3.10/site-packages/gym/core.py:317: DeprecationWarning: \u001b[33mWARN: Initializing wrapper in old step API which returns one bool instead of two. It is recommended to set `new_step_api=True` to use new step API. This will be the default behaviour in future.\u001b[0m\n",
      "  deprecation(\n",
      "/Users/lulu/Worskpace/rl-journey/.venv/lib/python3.10/site-packages/gym/wrappers/record_video.py:78: UserWarning: \u001b[33mWARN: Overwriting existing videos at /Users/lulu/Worskpace/rl-journey/videos/reinforce/MountainCar-v0 folder (try specifying a different `video_folder` for the `RecordVideo` wrapper if this is not desired)\u001b[0m\n",
      "  logger.warn(\n",
      "/Users/lulu/Worskpace/rl-journey/.venv/lib/python3.10/site-packages/gym/wrappers/monitoring/video_recorder.py:78: DeprecationWarning: \u001b[33mWARN: Recording ability for environment MountainCar-v0 initialized with `render_mode=None` is marked as deprecated and will be removed in the future.\u001b[0m\n",
      "  logger.deprecation(\n",
      "/Users/lulu/Worskpace/rl-journey/.venv/lib/python3.10/site-packages/gym/core.py:43: DeprecationWarning: \u001b[33mWARN: The argument mode in render method is deprecated; use render_mode during environment initialization instead.\n",
      "See here for more information: https://www.gymlibrary.ml/content/api/\u001b[0m\n",
      "  deprecation(\n"
     ]
    },
    {
     "data": {
      "text/plain": [
       "-200.0"
      ]
     },
     "execution_count": 133,
     "metadata": {},
     "output_type": "execute_result"
    }
   ],
   "source": [
    "watch_agent(agent, ENV, max_steps=500)"
   ]
  },
  {
   "cell_type": "code",
   "execution_count": null,
   "metadata": {},
   "outputs": [],
   "source": []
  },
  {
   "cell_type": "code",
   "execution_count": null,
   "metadata": {},
   "outputs": [],
   "source": []
  }
 ],
 "metadata": {
  "kernelspec": {
   "display_name": "Python 3.10.5 ('.venv': poetry)",
   "language": "python",
   "name": "python3"
  },
  "language_info": {
   "codemirror_mode": {
    "name": "ipython",
    "version": 3
   },
   "file_extension": ".py",
   "mimetype": "text/x-python",
   "name": "python",
   "nbconvert_exporter": "python",
   "pygments_lexer": "ipython3",
   "version": "3.10.6"
  },
  "orig_nbformat": 4,
  "vscode": {
   "interpreter": {
    "hash": "51ae4b48cd667d26a35c5140fc7a1db972b291d20a1bee8d89eeb2339d6da7a3"
   }
  }
 },
 "nbformat": 4,
 "nbformat_minor": 2
}
